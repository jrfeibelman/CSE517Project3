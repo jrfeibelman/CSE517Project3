{
 "cells": [
  {
   "cell_type": "code",
   "execution_count": 5,
   "id": "interim-crazy",
   "metadata": {},
   "outputs": [
    {
     "name": "stdout",
     "output_type": "stream",
     "text": [
      "Train error: 0.41\n"
     ]
    },
    {
     "data": {
      "image/png": "[encoded data removed]",
      "text/plain": [
       "<Figure size 432x288 with 1 Axes>"
      ]
     },
     "metadata": {
      "needs_background": "light"
     },
     "output_type": "display_data"
    },
    {
     "name": "stdout",
     "output_type": "stream",
     "text": [
      "Best C: 0\n",
      "Best P: 0\n"
     ]
    }
   ],
   "source": [
    "import numpy as np\n",
    "from trainsvm import trainsvm\n",
    "from crossvalidate import crossvalidate\n",
    "import matplotlib.pyplot as plt\n",
    "from visdecision import visdecision\n",
    "import pickle\n",
    "import scipy.io as sio\n",
    "import sys\n",
    "\n",
    "# Load data\n",
    "xTr = np.genfromtxt('xTr.csv', delimiter=',')\n",
    "yTr = np.genfromtxt('yTr.csv', delimiter=',').reshape((xTr.shape[1], 1))\n",
    "# print(\"xTr shape:\", xTr.shape)\n",
    "# print(\"yTr shape:\", yTr.shape)\n",
    "\n",
    "# Train initial classifier\n",
    "C = 1\n",
    "P = 1\n",
    "svmclassify = trainsvm(xTr, yTr, C, 'rbf', P)\n",
    "\n",
    "# Get training error of initial classifier\n",
    "train_preds = svmclassify(xTr)\n",
    "train_error = np.mean(train_preds != yTr)\n",
    "print(\"Train error:\", train_error)\n",
    "\n",
    "# Visualize svmclassify on the training set\n",
    "visdecision(xTr, yTr, svmclassify)\n",
    "plt.show()\n",
    "\n",
    "# Do crossvalidation (you will want to test different parameters)\n",
    "Cs = [1, 10]\n",
    "Ps = [1, 10]\n",
    "bestC, bestP, lowest_error, errors = crossvalidate(xTr, yTr, 'rbf', Cs, Ps)\n",
    "\n",
    "print(\"Best C:\", bestC)\n",
    "print(\"Best P:\", bestP)\n",
    "\n",
    "# Save the best parameters to be run on test data by the autorader\n",
    "best_parameters = {\n",
    "    'C' : bestC,\n",
    "    'P' : bestP\n",
    "}\n",
    "pickle.dump(best_parameters, open('best_parameters.pickle', 'wb'))\n",
    "# Don't forget to commit best_parameters.pickle!\n",
    "\n",
    "# Plot the performance of different parameters (this looks better with more parameter choices)\n",
    "# x,y = np.array(np.meshgrid(Cs, Ps))\n",
    "# plt.contourf(x, y, errors)\n",
    "# plt.colorbar()\n",
    "# plt.xlabel('C')\n",
    "# plt.ylabel('P')\n",
    "\n",
    "# Visualize the best decision boundary on the training set\n",
    "# best_classifier = trainsvm(xTr, yTr, bestC, 'rbf', bestP)\n",
    "# visdecision(xTr, yTr, best_classifier)\n",
    "\n",
    "plt.show()\n",
    "\n"
   ]
  },
  {
   "cell_type": "code",
   "execution_count": null,
   "id": "interested-balance",
   "metadata": {},
   "outputs": [],
   "source": []
  },
  {
   "cell_type": "code",
   "execution_count": null,
   "id": "located-horse",
   "metadata": {},
   "outputs": [],
   "source": []
  },
  {
   "cell_type": "code",
   "execution_count": null,
   "id": "built-conclusion",
   "metadata": {},
   "outputs": [],
   "source": []
  },
  {
   "cell_type": "code",
   "execution_count": null,
   "id": "flush-given",
   "metadata": {},
   "outputs": [],
   "source": []
  }
 ],
 "metadata": {
  "kernelspec": {
   "display_name": "Python 3",
   "language": "python",
   "name": "python3"
  },
  "language_info": {
   "codemirror_mode": {
    "name": "ipython",
    "version": 3
   },
   "file_extension": ".py",
   "mimetype": "text/x-python",
   "name": "python",
   "nbconvert_exporter": "python",
   "pygments_lexer": "ipython3",
   "version": "3.9.1"
  }
 },
 "nbformat": 4,
 "nbformat_minor": 5
}
