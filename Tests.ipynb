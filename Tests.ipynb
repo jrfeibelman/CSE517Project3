{
 "cells": [
  {
   "cell_type": "code",
   "execution_count": 4,
   "id": "interim-crazy",
   "metadata": {},
   "outputs": [
    {
     "ename": "NameError",
     "evalue": "name 'Q' is not defined",
     "output_type": "error",
     "traceback": [
      "\u001b[0;31m---------------------------------------------------------------------------\u001b[0m",
      "\u001b[0;31mNameError\u001b[0m                                 Traceback (most recent call last)",
      "\u001b[0;32m<ipython-input-4-c36d5f5cfa68>\u001b[0m in \u001b[0;36m<module>\u001b[0;34m\u001b[0m\n\u001b[1;32m     17\u001b[0m \u001b[0mC\u001b[0m \u001b[0;34m=\u001b[0m \u001b[0;36m1\u001b[0m\u001b[0;34m\u001b[0m\u001b[0;34m\u001b[0m\u001b[0m\n\u001b[1;32m     18\u001b[0m \u001b[0mP\u001b[0m \u001b[0;34m=\u001b[0m \u001b[0;36m1\u001b[0m\u001b[0;34m\u001b[0m\u001b[0;34m\u001b[0m\u001b[0m\n\u001b[0;32m---> 19\u001b[0;31m \u001b[0msvmclassify\u001b[0m \u001b[0;34m=\u001b[0m \u001b[0mtrainsvm\u001b[0m\u001b[0;34m(\u001b[0m\u001b[0mxTr\u001b[0m\u001b[0;34m,\u001b[0m \u001b[0myTr\u001b[0m\u001b[0;34m,\u001b[0m \u001b[0mC\u001b[0m\u001b[0;34m,\u001b[0m \u001b[0;34m'rbf'\u001b[0m\u001b[0;34m,\u001b[0m \u001b[0mP\u001b[0m\u001b[0;34m)\u001b[0m\u001b[0;34m\u001b[0m\u001b[0;34m\u001b[0m\u001b[0m\n\u001b[0m\u001b[1;32m     20\u001b[0m \u001b[0;34m\u001b[0m\u001b[0m\n\u001b[1;32m     21\u001b[0m \u001b[0;31m# Get training error of initial classifier\u001b[0m\u001b[0;34m\u001b[0m\u001b[0;34m\u001b[0m\u001b[0;34m\u001b[0m\u001b[0m\n",
      "\u001b[0;32m~/Desktop/stockalyzer/backup_files/stockalyzer/CSE517/CSE517Project3/trainsvm.py\u001b[0m in \u001b[0;36mtrainsvm\u001b[0;34m(xTr, yTr, C, ktype, P)\u001b[0m\n\u001b[1;32m     25\u001b[0m \u001b[0;34m\u001b[0m\u001b[0m\n\u001b[1;32m     26\u001b[0m     \u001b[0;31m#print(\"Generate QP...\")\u001b[0m\u001b[0;34m\u001b[0m\u001b[0;34m\u001b[0m\u001b[0;34m\u001b[0m\u001b[0m\n\u001b[0;32m---> 27\u001b[0;31m     \u001b[0mQ\u001b[0m\u001b[0;34m,\u001b[0m \u001b[0mp\u001b[0m\u001b[0;34m,\u001b[0m \u001b[0mG\u001b[0m\u001b[0;34m,\u001b[0m \u001b[0mh\u001b[0m\u001b[0;34m,\u001b[0m \u001b[0mA\u001b[0m\u001b[0;34m,\u001b[0m \u001b[0mb\u001b[0m \u001b[0;34m=\u001b[0m \u001b[0mgenerateQP\u001b[0m\u001b[0;34m(\u001b[0m\u001b[0mK\u001b[0m\u001b[0;34m,\u001b[0m \u001b[0myTr\u001b[0m\u001b[0;34m,\u001b[0m \u001b[0mC\u001b[0m\u001b[0;34m)\u001b[0m\u001b[0;34m\u001b[0m\u001b[0;34m\u001b[0m\u001b[0m\n\u001b[0m\u001b[1;32m     28\u001b[0m \u001b[0;34m\u001b[0m\u001b[0m\n\u001b[1;32m     29\u001b[0m     \u001b[0;31m#print(\"solve QP\")\u001b[0m\u001b[0;34m\u001b[0m\u001b[0;34m\u001b[0m\u001b[0;34m\u001b[0m\u001b[0m\n",
      "\u001b[0;32m~/Desktop/stockalyzer/backup_files/stockalyzer/CSE517/CSE517Project3/generateQP.py\u001b[0m in \u001b[0;36mgenerateQP\u001b[0;34m(K, yTr, C)\u001b[0m\n\u001b[1;32m     22\u001b[0m \u001b[0;34m\u001b[0m\u001b[0m\n\u001b[1;32m     23\u001b[0m \u001b[0;34m\u001b[0m\u001b[0m\n\u001b[0;32m---> 24\u001b[0;31m     \u001b[0;32mreturn\u001b[0m \u001b[0mmatrix\u001b[0m\u001b[0;34m(\u001b[0m\u001b[0mQ\u001b[0m\u001b[0;34m)\u001b[0m\u001b[0;34m,\u001b[0m \u001b[0mmatrix\u001b[0m\u001b[0;34m(\u001b[0m\u001b[0mp\u001b[0m\u001b[0;34m)\u001b[0m\u001b[0;34m,\u001b[0m \u001b[0mmatrix\u001b[0m\u001b[0;34m(\u001b[0m\u001b[0mG\u001b[0m\u001b[0;34m)\u001b[0m\u001b[0;34m,\u001b[0m \u001b[0mmatrix\u001b[0m\u001b[0;34m(\u001b[0m\u001b[0mh\u001b[0m\u001b[0;34m)\u001b[0m\u001b[0;34m,\u001b[0m \u001b[0mmatrix\u001b[0m\u001b[0;34m(\u001b[0m\u001b[0mA\u001b[0m\u001b[0;34m)\u001b[0m\u001b[0;34m,\u001b[0m \u001b[0mmatrix\u001b[0m\u001b[0;34m(\u001b[0m\u001b[0mb\u001b[0m\u001b[0;34m)\u001b[0m\u001b[0;34m\u001b[0m\u001b[0;34m\u001b[0m\u001b[0m\n\u001b[0m\u001b[1;32m     25\u001b[0m \u001b[0;34m\u001b[0m\u001b[0m\n",
      "\u001b[0;31mNameError\u001b[0m: name 'Q' is not defined"
     ]
    }
   ],
   "source": [
    "import numpy as np\n",
    "from trainsvm import trainsvm\n",
    "from crossvalidate import crossvalidate\n",
    "import matplotlib.pyplot as plt\n",
    "from visdecision import visdecision\n",
    "import pickle\n",
    "import scipy.io as sio\n",
    "import sys\n",
    "\n",
    "# Load data\n",
    "xTr = np.genfromtxt('xTr.csv', delimiter=',')\n",
    "yTr = np.genfromtxt('yTr.csv', delimiter=',').reshape((xTr.shape[1], 1))\n",
    "# print(\"xTr shape:\", xTr.shape)\n",
    "# print(\"yTr shape:\", yTr.shape)\n",
    "\n",
    "# Train initial classifier\n",
    "C = 1\n",
    "P = 1\n",
    "svmclassify = trainsvm(xTr, yTr, C, 'rbf', P)\n",
    "\n",
    "# Get training error of initial classifier\n",
    "train_preds = svmclassify(xTr)\n",
    "train_error = np.mean(train_preds != yTr)\n",
    "print(\"Train error:\", train_error)\n",
    "\n",
    "# Visualize svmclassify on the training set\n",
    "visdecision(xTr, yTr, svmclassify)\n",
    "plt.show()\n",
    "\n",
    "# Do crossvalidation (you will want to test different parameters)\n",
    "Cs = [1, 10]\n",
    "Ps = [1, 10]\n",
    "bestC, bestP, lowest_error, errors = crossvalidate(xTr, yTr, 'rbf', Cs, Ps)\n",
    "\n",
    "print(\"Best C:\", bestC)\n",
    "print(\"Best P:\", bestP)\n",
    "\n",
    "# Save the best parameters to be run on test data by the autorader\n",
    "best_parameters = {\n",
    "    'C' : bestC,\n",
    "    'P' : bestP\n",
    "}\n",
    "pickle.dump(best_parameters, open('best_parameters.pickle', 'wb'))\n",
    "# Don't forget to commit best_parameters.pickle!\n",
    "\n",
    "# Plot the performance of different parameters (this looks better with more parameter choices)\n",
    "# x,y = np.array(np.meshgrid(Cs, Ps))\n",
    "# plt.contourf(x, y, errors)\n",
    "# plt.colorbar()\n",
    "# plt.xlabel('C')\n",
    "# plt.ylabel('P')\n",
    "\n",
    "# Visualize the best decision boundary on the training set\n",
    "# best_classifier = trainsvm(xTr, yTr, bestC, 'rbf', bestP)\n",
    "# visdecision(xTr, yTr, best_classifier)\n",
    "\n",
    "plt.show()\n",
    "\n"
   ]
  },
  {
   "cell_type": "code",
   "execution_count": null,
   "id": "interested-balance",
   "metadata": {},
   "outputs": [],
   "source": []
  }
 ],
 "metadata": {
  "kernelspec": {
   "display_name": "Python 3",
   "language": "python",
   "name": "python3"
  },
  "language_info": {
   "codemirror_mode": {
    "name": "ipython",
    "version": 3
   },
   "file_extension": ".py",
   "mimetype": "text/x-python",
   "name": "python",
   "nbconvert_exporter": "python",
   "pygments_lexer": "ipython3",
   "version": "3.9.1"
  }
 },
 "nbformat": 4,
 "nbformat_minor": 5
}
